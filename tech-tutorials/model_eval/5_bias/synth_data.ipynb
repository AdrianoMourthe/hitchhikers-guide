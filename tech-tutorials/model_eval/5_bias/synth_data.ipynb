{
 "cells": [
  {
   "cell_type": "markdown",
   "metadata": {},
   "source": [
    "# Let's create some simple fake data"
   ]
  },
  {
   "cell_type": "code",
   "execution_count": 15,
   "metadata": {
    "collapsed": false
   },
   "outputs": [],
   "source": [
    "import numpy as np\n",
    "import pandas as pd\n",
    "import matplotlib\n",
    "%matplotlib inline\n",
    "from sklearn.ensemble import RandomForestClassifier\n",
    "from sklearn.metrics import roc_curve, auc\n",
    "import matplotlib.pyplot as plt"
   ]
  },
  {
   "cell_type": "markdown",
   "metadata": {},
   "source": [
    "## For the Crosstabs Example"
   ]
  },
  {
   "cell_type": "markdown",
   "metadata": {},
   "source": [
    "Let's generate some fake data:"
   ]
  },
  {
   "cell_type": "code",
   "execution_count": 16,
   "metadata": {
    "collapsed": false
   },
   "outputs": [],
   "source": [
    "def gimme_data():\n",
    "    \n",
    "    n = 500\n",
    "    k = 100\n",
    "    df = pd.DataFrame()\n",
    "    ids = np.arange(n)\n",
    "    np.random.shuffle(ids)\n",
    "    df['entity_id'] = ids\n",
    "    \n",
    "    # ===== Underlying features ====== \n",
    "    \n",
    "    # age is random\n",
    "    df['age'] = np.random.randn(len(df)) * 15 + 45\n",
    "    df.loc[df.age<0,'age'] = 1.0\n",
    "    \n",
    "    # gender is random\n",
    "    df['gender_female'] = np.random.binomial(1, 0.6, len(df))\n",
    "    \n",
    "    # incident rate is random, but bi-modal\n",
    "    switch = (np.random.randn(len(df)) > 0.2).astype(float)\n",
    "    df['incident_rate'] = np.random.beta(5,2,len(df)) * switch + np.random.beta(1,5,len(df)) * (1-switch)\n",
    "    \n",
    "    # some people have a rare mutation\n",
    "    df['random_feature_1'] = (np.random.randn(len(df)) > .5).astype(float)\n",
    "    \n",
    "    # ====== Actual risk ======\n",
    "    \n",
    "    # we have a latent score that determines actual risk\n",
    "    df['latent_score'] = 0\n",
    "\n",
    "    # every 30 years of age adds a risk point\n",
    "    df.loc[:,'latent_score'] += df['age'] / 30\n",
    "\n",
    "    # being male adds 1 risk points\n",
    "    df.loc[df.gender_female==0, 'latent_score'] = df.loc[df.gender_female==0, 'latent_score'] + 2\n",
    "\n",
    "    # incident rate * 2 for risk\n",
    "    df['latent_score'] = df['latent_score'] + df['incident_rate'] * 2\n",
    "\n",
    "    # if you're young, female, and have the rare mutation, you're at very high risk\n",
    "    small_group = (df.age<25)&(df.gender_female==1)&(df.random_feature_1==1)\n",
    "    df.loc[small_group, 'latent_score'] = df.loc[small_group, 'latent_score'] + 25\n",
    "\n",
    "    # remember a cutoff - above this, you're positive (90th percentile)\n",
    "    cutoff = np.percentile(df.latent_score, q=90)\n",
    "\n",
    "    # make some noooooise\n",
    "    df['latent_score'] = df['latent_score'] + np.random.randn(len(df)) * 1\n",
    "    \n",
    "    # convert latent score to true label\n",
    "    df['true_label'] = df['latent_score'] > cutoff\n",
    "    del df['latent_score']\n",
    "    \n",
    "    # ===== Distracting Features =====\n",
    "    \n",
    "    for idx in range(2, 15):\n",
    "        df['random_feature_%d'%idx] = ((np.random.randn(len(df)) * np.random.rand()*5 + np.random.randn()*5) > 2).astype(float)\n",
    "        \n",
    "    # some binary ones\n",
    "    for idx in range(16, 30):\n",
    "        df['random_feature_%d'%idx] = np.random.randn(len(df)) * np.random.rand()*5 + np.random.randn()*5\n",
    "        \n",
    "    # some boring correlates of age\n",
    "    for idx in range(31, 60):\n",
    "        df['random_feature_%d'%idx] = df['age'] + np.random.rand()*20 + np.random.rand()*100 +\\\n",
    "                                                  np.random.randn(len(df))*10\n",
    "    # some boring correlates of gender\n",
    "    for idx in range(61, 90):\n",
    "        df['random_feature_%d'%idx] = df['gender_female'] + np.random.randn(len(df)) * np.random.rand()*5\n",
    "        \n",
    "    df = df[['entity_id','age','gender_female','incident_rate','true_label'] + \n",
    "            [c for c in df.columns if c.startswith('random')]]\n",
    "        \n",
    "    return df"
   ]
  },
  {
   "cell_type": "markdown",
   "metadata": {},
   "source": [
    "#### Generate train and test set"
   ]
  },
  {
   "cell_type": "code",
   "execution_count": 17,
   "metadata": {
    "collapsed": false
   },
   "outputs": [],
   "source": [
    "train = gimme_data()\n",
    "test = gimme_data()"
   ]
  },
  {
   "cell_type": "code",
   "execution_count": 18,
   "metadata": {
    "collapsed": false
   },
   "outputs": [
    {
     "data": {
      "text/plain": [
       "False    430\n",
       "True      70\n",
       "Name: true_label, dtype: int64"
      ]
     },
     "execution_count": 18,
     "metadata": {},
     "output_type": "execute_result"
    }
   ],
   "source": [
    "train.true_label.value_counts()"
   ]
  },
  {
   "cell_type": "code",
   "execution_count": 19,
   "metadata": {
    "collapsed": false
   },
   "outputs": [
    {
     "data": {
      "text/plain": [
       "False    419\n",
       "True      81\n",
       "Name: true_label, dtype: int64"
      ]
     },
     "execution_count": 19,
     "metadata": {},
     "output_type": "execute_result"
    }
   ],
   "source": [
    "test.true_label.value_counts()"
   ]
  },
  {
   "cell_type": "markdown",
   "metadata": {},
   "source": [
    "#### Let's see if the interaction term made it through:"
   ]
  },
  {
   "cell_type": "code",
   "execution_count": 20,
   "metadata": {
    "collapsed": false
   },
   "outputs": [
    {
     "data": {
      "text/plain": [
       "True    7\n",
       "Name: true_label, dtype: int64"
      ]
     },
     "execution_count": 20,
     "metadata": {},
     "output_type": "execute_result"
    }
   ],
   "source": [
    "small_group = (train.age<25)&(train.gender_female==1)&(train.random_feature_1==1)\n",
    "train[small_group].true_label.value_counts()"
   ]
  },
  {
   "cell_type": "code",
   "execution_count": 21,
   "metadata": {
    "collapsed": false
   },
   "outputs": [
    {
     "data": {
      "text/plain": [
       "True    12\n",
       "Name: true_label, dtype: int64"
      ]
     },
     "execution_count": 21,
     "metadata": {},
     "output_type": "execute_result"
    }
   ],
   "source": [
    "small_group = (test.age<25)&(test.gender_female==1)&(test.random_feature_1==1)\n",
    "test[small_group].true_label.value_counts()"
   ]
  },
  {
   "cell_type": "markdown",
   "metadata": {},
   "source": [
    "Yup!"
   ]
  },
  {
   "cell_type": "markdown",
   "metadata": {},
   "source": [
    "### Fit and Predict with an RF"
   ]
  },
  {
   "cell_type": "code",
   "execution_count": 22,
   "metadata": {
    "collapsed": false
   },
   "outputs": [
    {
     "data": {
      "text/plain": [
       "RandomForestClassifier(bootstrap=True, class_weight=None, criterion='gini',\n",
       "            max_depth=None, max_features='auto', max_leaf_nodes=None,\n",
       "            min_impurity_split=1e-07, min_samples_leaf=1,\n",
       "            min_samples_split=2, min_weight_fraction_leaf=0.0,\n",
       "            n_estimators=2000, n_jobs=1, oob_score=False,\n",
       "            random_state=None, verbose=0, warm_start=False)"
      ]
     },
     "execution_count": 22,
     "metadata": {},
     "output_type": "execute_result"
    }
   ],
   "source": [
    "rf = RandomForestClassifier(n_estimators=200)\n",
    "rf.fit(X=train.drop(['entity_id','true_label'],1),\n",
    "       y=train['true_label'])"
   ]
  },
  {
   "cell_type": "code",
   "execution_count": 23,
   "metadata": {
    "collapsed": false
   },
   "outputs": [],
   "source": [
    "preds = rf.predict_proba(test.drop(['entity_id','true_label'],1))"
   ]
  },
  {
   "cell_type": "markdown",
   "metadata": {},
   "source": [
    "#### Just making sure that the RF can do something sensible: "
   ]
  },
  {
   "cell_type": "code",
   "execution_count": 24,
   "metadata": {
    "collapsed": false
   },
   "outputs": [],
   "source": [
    "fpr, tpr, _ = roc_curve(y_true=test.true_label, y_score=preds[:,1])"
   ]
  },
  {
   "cell_type": "code",
   "execution_count": 25,
   "metadata": {
    "collapsed": false
   },
   "outputs": [],
   "source": [
    "roc_auc = auc(fpr, tpr)"
   ]
  },
  {
   "cell_type": "code",
   "execution_count": 26,
   "metadata": {
    "collapsed": false
   },
   "outputs": [
    {
     "data": {
      "image/png": "[encoded data removed]",
      "text/plain": [
       "<matplotlib.figure.Figure at 0x7f6feaa988d0>"
      ]
     },
     "metadata": {},
     "output_type": "display_data"
    }
   ],
   "source": [
    "plt.figure()\n",
    "lw = 2\n",
    "plt.plot(fpr, tpr, color='darkorange',\n",
    "         lw=lw, label='ROC curve (area = %0.2f)' % roc_auc)\n",
    "plt.plot([0, 1], [0, 1], color='navy', lw=lw, linestyle='--')\n",
    "plt.xlim([0.0, 1.0])\n",
    "plt.ylim([0.0, 1.05])\n",
    "plt.xlabel('False Positive Rate')\n",
    "plt.ylabel('True Positive Rate')\n",
    "plt.title('Receiver operating characteristic example')\n",
    "plt.legend(loc=\"lower right\")\n",
    "plt.show()"
   ]
  },
  {
   "cell_type": "markdown",
   "metadata": {},
   "source": [
    "Looking alright."
   ]
  },
  {
   "cell_type": "code",
   "execution_count": 27,
   "metadata": {
    "collapsed": false
   },
   "outputs": [],
   "source": [
    "test['score'] = preds[:,1]"
   ]
  },
  {
   "cell_type": "code",
   "execution_count": 28,
   "metadata": {
    "collapsed": true
   },
   "outputs": [],
   "source": [
    "test = test.sort_values(by='score', ascending=False)"
   ]
  },
  {
   "cell_type": "code",
   "execution_count": 29,
   "metadata": {
    "collapsed": false
   },
   "outputs": [
    {
     "data": {
      "text/html": [
       "<div>\n",
       "<table border=\"1\" class=\"dataframe\">\n",
       "  <thead>\n",
       "    <tr style=\"text-align: right;\">\n",
       "      <th></th>\n",
       "      <th>entity_id</th>\n",
       "      <th>age</th>\n",
       "      <th>gender_female</th>\n",
       "      <th>incident_rate</th>\n",
       "      <th>true_label</th>\n",
       "      <th>random_feature_1</th>\n",
       "      <th>random_feature_2</th>\n",
       "      <th>random_feature_3</th>\n",
       "      <th>random_feature_4</th>\n",
       "      <th>random_feature_5</th>\n",
       "      <th>...</th>\n",
       "      <th>random_feature_81</th>\n",
       "      <th>random_feature_82</th>\n",
       "      <th>random_feature_83</th>\n",
       "      <th>random_feature_84</th>\n",
       "      <th>random_feature_85</th>\n",
       "      <th>random_feature_86</th>\n",
       "      <th>random_feature_87</th>\n",
       "      <th>random_feature_88</th>\n",
       "      <th>random_feature_89</th>\n",
       "      <th>score</th>\n",
       "    </tr>\n",
       "  </thead>\n",
       "  <tbody>\n",
       "    <tr>\n",
       "      <th>245</th>\n",
       "      <td>310</td>\n",
       "      <td>90.689034</td>\n",
       "      <td>0</td>\n",
       "      <td>0.418747</td>\n",
       "      <td>True</td>\n",
       "      <td>1.0</td>\n",
       "      <td>0.0</td>\n",
       "      <td>1.0</td>\n",
       "      <td>1.0</td>\n",
       "      <td>1.0</td>\n",
       "      <td>...</td>\n",
       "      <td>5.917597</td>\n",
       "      <td>1.436115</td>\n",
       "      <td>-1.912858</td>\n",
       "      <td>-0.569543</td>\n",
       "      <td>2.965550</td>\n",
       "      <td>-2.513481</td>\n",
       "      <td>-0.340876</td>\n",
       "      <td>-2.947102</td>\n",
       "      <td>3.077114</td>\n",
       "      <td>0.6625</td>\n",
       "    </tr>\n",
       "    <tr>\n",
       "      <th>64</th>\n",
       "      <td>275</td>\n",
       "      <td>58.470392</td>\n",
       "      <td>0</td>\n",
       "      <td>0.832463</td>\n",
       "      <td>True</td>\n",
       "      <td>1.0</td>\n",
       "      <td>0.0</td>\n",
       "      <td>1.0</td>\n",
       "      <td>1.0</td>\n",
       "      <td>0.0</td>\n",
       "      <td>...</td>\n",
       "      <td>-6.032877</td>\n",
       "      <td>1.128381</td>\n",
       "      <td>-1.377320</td>\n",
       "      <td>-0.008848</td>\n",
       "      <td>14.424553</td>\n",
       "      <td>-8.934291</td>\n",
       "      <td>0.814477</td>\n",
       "      <td>-1.491280</td>\n",
       "      <td>-0.161036</td>\n",
       "      <td>0.6255</td>\n",
       "    </tr>\n",
       "    <tr>\n",
       "      <th>266</th>\n",
       "      <td>297</td>\n",
       "      <td>50.942681</td>\n",
       "      <td>0</td>\n",
       "      <td>0.616363</td>\n",
       "      <td>True</td>\n",
       "      <td>0.0</td>\n",
       "      <td>1.0</td>\n",
       "      <td>1.0</td>\n",
       "      <td>0.0</td>\n",
       "      <td>0.0</td>\n",
       "      <td>...</td>\n",
       "      <td>-2.098788</td>\n",
       "      <td>-2.724240</td>\n",
       "      <td>-0.235813</td>\n",
       "      <td>-0.278502</td>\n",
       "      <td>-0.138277</td>\n",
       "      <td>1.596197</td>\n",
       "      <td>0.782371</td>\n",
       "      <td>-1.799455</td>\n",
       "      <td>-0.158378</td>\n",
       "      <td>0.6120</td>\n",
       "    </tr>\n",
       "    <tr>\n",
       "      <th>445</th>\n",
       "      <td>413</td>\n",
       "      <td>66.473848</td>\n",
       "      <td>0</td>\n",
       "      <td>0.880119</td>\n",
       "      <td>True</td>\n",
       "      <td>1.0</td>\n",
       "      <td>0.0</td>\n",
       "      <td>1.0</td>\n",
       "      <td>0.0</td>\n",
       "      <td>1.0</td>\n",
       "      <td>...</td>\n",
       "      <td>1.775662</td>\n",
       "      <td>0.749186</td>\n",
       "      <td>2.046784</td>\n",
       "      <td>-1.079093</td>\n",
       "      <td>2.349472</td>\n",
       "      <td>9.136439</td>\n",
       "      <td>-0.040463</td>\n",
       "      <td>-0.113097</td>\n",
       "      <td>4.016155</td>\n",
       "      <td>0.6095</td>\n",
       "    </tr>\n",
       "    <tr>\n",
       "      <th>384</th>\n",
       "      <td>80</td>\n",
       "      <td>62.094553</td>\n",
       "      <td>0</td>\n",
       "      <td>0.778579</td>\n",
       "      <td>True</td>\n",
       "      <td>0.0</td>\n",
       "      <td>1.0</td>\n",
       "      <td>1.0</td>\n",
       "      <td>0.0</td>\n",
       "      <td>1.0</td>\n",
       "      <td>...</td>\n",
       "      <td>-0.240055</td>\n",
       "      <td>0.794865</td>\n",
       "      <td>0.577040</td>\n",
       "      <td>-1.748218</td>\n",
       "      <td>3.642191</td>\n",
       "      <td>0.448044</td>\n",
       "      <td>-1.863053</td>\n",
       "      <td>-1.924604</td>\n",
       "      <td>3.214991</td>\n",
       "      <td>0.6040</td>\n",
       "    </tr>\n",
       "    <tr>\n",
       "      <th>395</th>\n",
       "      <td>107</td>\n",
       "      <td>60.236041</td>\n",
       "      <td>0</td>\n",
       "      <td>0.883396</td>\n",
       "      <td>True</td>\n",
       "      <td>1.0</td>\n",
       "      <td>0.0</td>\n",
       "      <td>1.0</td>\n",
       "      <td>0.0</td>\n",
       "      <td>1.0</td>\n",
       "      <td>...</td>\n",
       "      <td>-2.001680</td>\n",
       "      <td>1.419902</td>\n",
       "      <td>0.054062</td>\n",
       "      <td>-0.104972</td>\n",
       "      <td>1.504020</td>\n",
       "      <td>-2.485376</td>\n",
       "      <td>0.466229</td>\n",
       "      <td>-1.124598</td>\n",
       "      <td>-1.183533</td>\n",
       "      <td>0.6000</td>\n",
       "    </tr>\n",
       "    <tr>\n",
       "      <th>264</th>\n",
       "      <td>136</td>\n",
       "      <td>61.192804</td>\n",
       "      <td>0</td>\n",
       "      <td>0.180717</td>\n",
       "      <td>False</td>\n",
       "      <td>1.0</td>\n",
       "      <td>0.0</td>\n",
       "      <td>1.0</td>\n",
       "      <td>0.0</td>\n",
       "      <td>1.0</td>\n",
       "      <td>...</td>\n",
       "      <td>1.244104</td>\n",
       "      <td>0.535924</td>\n",
       "      <td>-0.983390</td>\n",
       "      <td>0.408115</td>\n",
       "      <td>3.692764</td>\n",
       "      <td>1.714156</td>\n",
       "      <td>0.167725</td>\n",
       "      <td>-4.285780</td>\n",
       "      <td>-3.440691</td>\n",
       "      <td>0.5975</td>\n",
       "    </tr>\n",
       "    <tr>\n",
       "      <th>391</th>\n",
       "      <td>88</td>\n",
       "      <td>58.004988</td>\n",
       "      <td>0</td>\n",
       "      <td>0.046982</td>\n",
       "      <td>False</td>\n",
       "      <td>1.0</td>\n",
       "      <td>0.0</td>\n",
       "      <td>1.0</td>\n",
       "      <td>0.0</td>\n",
       "      <td>1.0</td>\n",
       "      <td>...</td>\n",
       "      <td>1.152620</td>\n",
       "      <td>2.016372</td>\n",
       "      <td>0.003978</td>\n",
       "      <td>-0.539715</td>\n",
       "      <td>1.605834</td>\n",
       "      <td>-2.832138</td>\n",
       "      <td>-0.450334</td>\n",
       "      <td>-1.825197</td>\n",
       "      <td>-0.961031</td>\n",
       "      <td>0.5920</td>\n",
       "    </tr>\n",
       "    <tr>\n",
       "      <th>107</th>\n",
       "      <td>243</td>\n",
       "      <td>63.834838</td>\n",
       "      <td>0</td>\n",
       "      <td>0.706973</td>\n",
       "      <td>True</td>\n",
       "      <td>1.0</td>\n",
       "      <td>0.0</td>\n",
       "      <td>1.0</td>\n",
       "      <td>0.0</td>\n",
       "      <td>1.0</td>\n",
       "      <td>...</td>\n",
       "      <td>2.675436</td>\n",
       "      <td>1.345596</td>\n",
       "      <td>0.179549</td>\n",
       "      <td>-0.610908</td>\n",
       "      <td>-2.372196</td>\n",
       "      <td>-1.284385</td>\n",
       "      <td>-1.743944</td>\n",
       "      <td>2.596432</td>\n",
       "      <td>-0.348752</td>\n",
       "      <td>0.5845</td>\n",
       "    </tr>\n",
       "    <tr>\n",
       "      <th>263</th>\n",
       "      <td>188</td>\n",
       "      <td>44.427224</td>\n",
       "      <td>0</td>\n",
       "      <td>0.094704</td>\n",
       "      <td>False</td>\n",
       "      <td>1.0</td>\n",
       "      <td>1.0</td>\n",
       "      <td>1.0</td>\n",
       "      <td>1.0</td>\n",
       "      <td>1.0</td>\n",
       "      <td>...</td>\n",
       "      <td>-2.717508</td>\n",
       "      <td>-6.052413</td>\n",
       "      <td>0.221070</td>\n",
       "      <td>-1.407377</td>\n",
       "      <td>1.309400</td>\n",
       "      <td>4.311352</td>\n",
       "      <td>-2.908956</td>\n",
       "      <td>-6.742073</td>\n",
       "      <td>-1.599630</td>\n",
       "      <td>0.5840</td>\n",
       "    </tr>\n",
       "  </tbody>\n",
       "</table>\n",
       "<p>10 rows × 92 columns</p>\n",
       "</div>"
      ],
      "text/plain": [
       "     entity_id        age  gender_female  incident_rate true_label  \\\n",
       "245        310  90.689034              0       0.418747       True   \n",
       "64         275  58.470392              0       0.832463       True   \n",
       "266        297  50.942681              0       0.616363       True   \n",
       "445        413  66.473848              0       0.880119       True   \n",
       "384         80  62.094553              0       0.778579       True   \n",
       "395        107  60.236041              0       0.883396       True   \n",
       "264        136  61.192804              0       0.180717      False   \n",
       "391         88  58.004988              0       0.046982      False   \n",
       "107        243  63.834838              0       0.706973       True   \n",
       "263        188  44.427224              0       0.094704      False   \n",
       "\n",
       "     random_feature_1  random_feature_2  random_feature_3  random_feature_4  \\\n",
       "245               1.0               0.0               1.0               1.0   \n",
       "64                1.0               0.0               1.0               1.0   \n",
       "266               0.0               1.0               1.0               0.0   \n",
       "445               1.0               0.0               1.0               0.0   \n",
       "384               0.0               1.0               1.0               0.0   \n",
       "395               1.0               0.0               1.0               0.0   \n",
       "264               1.0               0.0               1.0               0.0   \n",
       "391               1.0               0.0               1.0               0.0   \n",
       "107               1.0               0.0               1.0               0.0   \n",
       "263               1.0               1.0               1.0               1.0   \n",
       "\n",
       "     random_feature_5   ...    random_feature_81  random_feature_82  \\\n",
       "245               1.0   ...             5.917597           1.436115   \n",
       "64                0.0   ...            -6.032877           1.128381   \n",
       "266               0.0   ...            -2.098788          -2.724240   \n",
       "445               1.0   ...             1.775662           0.749186   \n",
       "384               1.0   ...            -0.240055           0.794865   \n",
       "395               1.0   ...            -2.001680           1.419902   \n",
       "264               1.0   ...             1.244104           0.535924   \n",
       "391               1.0   ...             1.152620           2.016372   \n",
       "107               1.0   ...             2.675436           1.345596   \n",
       "263               1.0   ...            -2.717508          -6.052413   \n",
       "\n",
       "     random_feature_83  random_feature_84  random_feature_85  \\\n",
       "245          -1.912858          -0.569543           2.965550   \n",
       "64           -1.377320          -0.008848          14.424553   \n",
       "266          -0.235813          -0.278502          -0.138277   \n",
       "445           2.046784          -1.079093           2.349472   \n",
       "384           0.577040          -1.748218           3.642191   \n",
       "395           0.054062          -0.104972           1.504020   \n",
       "264          -0.983390           0.408115           3.692764   \n",
       "391           0.003978          -0.539715           1.605834   \n",
       "107           0.179549          -0.610908          -2.372196   \n",
       "263           0.221070          -1.407377           1.309400   \n",
       "\n",
       "     random_feature_86  random_feature_87  random_feature_88  \\\n",
       "245          -2.513481          -0.340876          -2.947102   \n",
       "64           -8.934291           0.814477          -1.491280   \n",
       "266           1.596197           0.782371          -1.799455   \n",
       "445           9.136439          -0.040463          -0.113097   \n",
       "384           0.448044          -1.863053          -1.924604   \n",
       "395          -2.485376           0.466229          -1.124598   \n",
       "264           1.714156           0.167725          -4.285780   \n",
       "391          -2.832138          -0.450334          -1.825197   \n",
       "107          -1.284385          -1.743944           2.596432   \n",
       "263           4.311352          -2.908956          -6.742073   \n",
       "\n",
       "     random_feature_89   score  \n",
       "245           3.077114  0.6625  \n",
       "64           -0.161036  0.6255  \n",
       "266          -0.158378  0.6120  \n",
       "445           4.016155  0.6095  \n",
       "384           3.214991  0.6040  \n",
       "395          -1.183533  0.6000  \n",
       "264          -3.440691  0.5975  \n",
       "391          -0.961031  0.5920  \n",
       "107          -0.348752  0.5845  \n",
       "263          -1.599630  0.5840  \n",
       "\n",
       "[10 rows x 92 columns]"
      ]
     },
     "execution_count": 29,
     "metadata": {},
     "output_type": "execute_result"
    }
   ],
   "source": [
    "test.head(10)"
   ]
  },
  {
   "cell_type": "markdown",
   "metadata": {},
   "source": [
    "But didn't pick up on the interaction term."
   ]
  },
  {
   "cell_type": "code",
   "execution_count": 30,
   "metadata": {
    "collapsed": false
   },
   "outputs": [],
   "source": [
    "# rearrange columns a bit\n",
    "test = test[['entity_id','true_label','score'] + [c for c in test.columns if c not in ['entity_id','true_label','score']]]"
   ]
  },
  {
   "cell_type": "code",
   "execution_count": 31,
   "metadata": {
    "collapsed": true
   },
   "outputs": [],
   "source": [
    "test.to_csv('test_data.csv', index=False)"
   ]
  }
 ],
 "metadata": {
  "kernelspec": {
   "display_name": "Python 3",
   "language": "python",
   "name": "python3"
  },
  "language_info": {
   "codemirror_mode": {
    "name": "ipython",
    "version": 3
   },
   "file_extension": ".py",
   "mimetype": "text/x-python",
   "name": "python",
   "nbconvert_exporter": "python",
   "pygments_lexer": "ipython3",
   "version": "3.5.1"
  }
 },
 "nbformat": 4,
 "nbformat_minor": 0
}
