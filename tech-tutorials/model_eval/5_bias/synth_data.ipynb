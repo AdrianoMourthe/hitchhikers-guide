{
 "cells": [
  {
   "cell_type": "markdown",
   "metadata": {},
   "source": [
    "# Let's create some simple fake data"
   ]
  },
  {
   "cell_type": "code",
   "execution_count": 292,
   "metadata": {
    "collapsed": false
   },
   "outputs": [],
   "source": [
    "import numpy as np\n",
    "import pandas as pd\n",
    "import matplotlib\n",
    "%matplotlib inline\n",
    "from sklearn.ensemble import RandomForestClassifier\n",
    "from sklearn.metrics import roc_curve, auc\n",
    "import matplotlib.pyplot as plt"
   ]
  },
  {
   "cell_type": "markdown",
   "metadata": {},
   "source": [
    "## For the Crosstabs Example"
   ]
  },
  {
   "cell_type": "markdown",
   "metadata": {},
   "source": [
    "Let's generate some fake data:"
   ]
  },
  {
   "cell_type": "code",
   "execution_count": 384,
   "metadata": {
    "collapsed": false
   },
   "outputs": [],
   "source": [
    "def gimme_data():\n",
    "    \n",
    "    n = 500\n",
    "    k = 100\n",
    "    df = pd.DataFrame()\n",
    "    ids = np.arange(n)\n",
    "    np.random.shuffle(ids)\n",
    "    df['entity_id'] = ids\n",
    "    \n",
    "    # ===== Underlying features ====== \n",
    "    \n",
    "    # age is random\n",
    "    df['age'] = np.random.randn(len(df)) * 15 + 45\n",
    "    df.loc[df.age<0,'age'] = 1.0\n",
    "    \n",
    "    # gender is random\n",
    "    df['gender_female'] = np.random.binomial(1, 0.6, len(df))\n",
    "    \n",
    "    # incident rate is random, but bi-modal\n",
    "    switch = (np.random.randn(len(df)) > 0.2).astype(float)\n",
    "    df['incident_rate'] = np.random.beta(5,2,len(df)) * switch + np.random.beta(1,5,len(df)) * (1-switch)\n",
    "    \n",
    "    # some people have a rare mutation\n",
    "    df['random_feature_1'] = (np.random.randn(len(df)) > .5).astype(float)\n",
    "    \n",
    "    # ====== Actual risk ======\n",
    "    \n",
    "    # we have a latent score that determines actual risk\n",
    "    df['latent_score'] = 0\n",
    "\n",
    "    # every 30 years of age adds a risk point\n",
    "    df.loc[:,'latent_score'] += df['age'] / 30\n",
    "\n",
    "    # being male adds 1 risk points\n",
    "    df.loc[df.gender_female==0, 'latent_score'] = df.loc[df.gender_female==0, 'latent_score'] + 2\n",
    "\n",
    "    # incident rate * 2 for risk\n",
    "    df['latent_score'] = df['latent_score'] + df['incident_rate'] * 2\n",
    "\n",
    "    # if you're young, female, and have the rare mutation, you're at very high risk\n",
    "    small_group = (df.age<25)&(df.gender_female==1)&(df.random_feature_1==1)\n",
    "    df.loc[small_group, 'latent_score'] = df.loc[small_group, 'latent_score'] + 25\n",
    "\n",
    "    # remember a cutoff - above this, you're positive (90th percentile\n",
    "    cutoff = np.percentile(df.latent_score, q=90)\n",
    "\n",
    "    # make some noooooise\n",
    "    df['latent_score'] = df['latent_score'] + np.random.randn(len(df)) * 1\n",
    "    \n",
    "    # convert latent score to true label\n",
    "    df['true_label'] = df['latent_score'] > cutoff\n",
    "    del df['latent_score']\n",
    "    \n",
    "    # ===== Distracting Features =====\n",
    "    \n",
    "    for idx in range(2, 15):\n",
    "        df['random_feature_%d'%idx] = ((np.random.randn(len(df)) * np.random.rand()*5 + np.random.randn()*5) > 2).astype(float)\n",
    "        \n",
    "    # some binary ones\n",
    "    for idx in range(16, 30):\n",
    "        df['random_feature_%d'%idx] = np.random.randn(len(df)) * np.random.rand()*5 + np.random.randn()*5\n",
    "        \n",
    "    # some boring correlates of age\n",
    "    for idx in range(31, 60):\n",
    "        df['random_feature_%d'%idx] = df['age'] + np.random.rand()*20 + np.random.rand()*100 +\\\n",
    "                                                  np.random.randn(len(df))*10\n",
    "    # some boring correlates of gender\n",
    "    for idx in range(61, 90):\n",
    "        df['random_feature_%d'%idx] = df['gender_female'] + np.random.randn(len(df)) * np.random.rand()*5\n",
    "        \n",
    "    df = df[['entity_id','age','gender_female','incident_rate','true_label'] + \n",
    "            [c for c in df.columns if c.startswith('random')]]\n",
    "        \n",
    "    return df"
   ]
  },
  {
   "cell_type": "markdown",
   "metadata": {},
   "source": [
    "#### Generate train and test set"
   ]
  },
  {
   "cell_type": "code",
   "execution_count": 402,
   "metadata": {
    "collapsed": false
   },
   "outputs": [],
   "source": [
    "train = gimme_data()\n",
    "test = gimme_data()"
   ]
  },
  {
   "cell_type": "code",
   "execution_count": 403,
   "metadata": {
    "collapsed": false
   },
   "outputs": [
    {
     "data": {
      "text/plain": [
       "False    419\n",
       "True      81\n",
       "Name: true_label, dtype: int64"
      ]
     },
     "execution_count": 403,
     "metadata": {},
     "output_type": "execute_result"
    }
   ],
   "source": [
    "train.true_label.value_counts()"
   ]
  },
  {
   "cell_type": "code",
   "execution_count": 404,
   "metadata": {
    "collapsed": false
   },
   "outputs": [
    {
     "data": {
      "text/plain": [
       "False    429\n",
       "True      71\n",
       "Name: true_label, dtype: int64"
      ]
     },
     "execution_count": 404,
     "metadata": {},
     "output_type": "execute_result"
    }
   ],
   "source": [
    "test.true_label.value_counts()"
   ]
  },
  {
   "cell_type": "markdown",
   "metadata": {},
   "source": [
    "#### Let's see if the interaction term made it through:"
   ]
  },
  {
   "cell_type": "code",
   "execution_count": 409,
   "metadata": {
    "collapsed": false
   },
   "outputs": [
    {
     "data": {
      "text/plain": [
       "True    8\n",
       "Name: true_label, dtype: int64"
      ]
     },
     "execution_count": 409,
     "metadata": {},
     "output_type": "execute_result"
    }
   ],
   "source": [
    "small_group = (train.age<25)&(train.gender_female==1)&(train.random_feature_1==1)\n",
    "train[small_group].true_label.value_counts()"
   ]
  },
  {
   "cell_type": "code",
   "execution_count": 410,
   "metadata": {
    "collapsed": false
   },
   "outputs": [
    {
     "data": {
      "text/plain": [
       "True    10\n",
       "Name: true_label, dtype: int64"
      ]
     },
     "execution_count": 410,
     "metadata": {},
     "output_type": "execute_result"
    }
   ],
   "source": [
    "small_group = (test.age<25)&(test.gender_female==1)&(test.random_feature_1==1)\n",
    "test[small_group].true_label.value_counts()"
   ]
  },
  {
   "cell_type": "markdown",
   "metadata": {},
   "source": [
    "Yup!"
   ]
  },
  {
   "cell_type": "markdown",
   "metadata": {},
   "source": [
    "### Fit and Predict with an RF"
   ]
  },
  {
   "cell_type": "code",
   "execution_count": 411,
   "metadata": {
    "collapsed": false
   },
   "outputs": [
    {
     "data": {
      "text/plain": [
       "RandomForestClassifier(bootstrap=True, class_weight=None, criterion='gini',\n",
       "            max_depth=None, max_features='auto', max_leaf_nodes=None,\n",
       "            min_impurity_split=1e-07, min_samples_leaf=1,\n",
       "            min_samples_split=2, min_weight_fraction_leaf=0.0,\n",
       "            n_estimators=200, n_jobs=1, oob_score=False, random_state=None,\n",
       "            verbose=0, warm_start=False)"
      ]
     },
     "execution_count": 411,
     "metadata": {},
     "output_type": "execute_result"
    }
   ],
   "source": [
    "rf = RandomForestClassifier(n_estimators=200)\n",
    "rf.fit(X=train.drop(['entity_id','true_label'],1),\n",
    "       y=train['true_label'])"
   ]
  },
  {
   "cell_type": "code",
   "execution_count": 412,
   "metadata": {
    "collapsed": false
   },
   "outputs": [],
   "source": [
    "preds = rf.predict_proba(test.drop(['entity_id','true_label'],1))"
   ]
  },
  {
   "cell_type": "markdown",
   "metadata": {},
   "source": [
    "#### Just making sure that the RF can do something sensible: "
   ]
  },
  {
   "cell_type": "code",
   "execution_count": 413,
   "metadata": {
    "collapsed": false
   },
   "outputs": [],
   "source": [
    "fpr, tpr, _ = roc_curve(y_true=test.true_label, y_score=preds[:,1])"
   ]
  },
  {
   "cell_type": "code",
   "execution_count": 414,
   "metadata": {
    "collapsed": false
   },
   "outputs": [],
   "source": [
    "roc_auc = auc(fpr, tpr)"
   ]
  },
  {
   "cell_type": "code",
   "execution_count": 415,
   "metadata": {
    "collapsed": false
   },
   "outputs": [
    {
     "data": {
      "image/png": "[encoded data removed]",
      "text/plain": [
       "<matplotlib.figure.Figure at 0x7f4e5a8b67b8>"
      ]
     },
     "metadata": {},
     "output_type": "display_data"
    }
   ],
   "source": [
    "plt.figure()\n",
    "lw = 2\n",
    "plt.plot(fpr, tpr, color='darkorange',\n",
    "         lw=lw, label='ROC curve (area = %0.2f)' % roc_auc)\n",
    "plt.plot([0, 1], [0, 1], color='navy', lw=lw, linestyle='--')\n",
    "plt.xlim([0.0, 1.0])\n",
    "plt.ylim([0.0, 1.05])\n",
    "plt.xlabel('False Positive Rate')\n",
    "plt.ylabel('True Positive Rate')\n",
    "plt.title('Receiver operating characteristic example')\n",
    "plt.legend(loc=\"lower right\")\n",
    "plt.show()"
   ]
  },
  {
   "cell_type": "markdown",
   "metadata": {},
   "source": [
    "Looking alright."
   ]
  },
  {
   "cell_type": "code",
   "execution_count": 416,
   "metadata": {
    "collapsed": false
   },
   "outputs": [],
   "source": [
    "test['score'] = preds[:,1]"
   ]
  },
  {
   "cell_type": "code",
   "execution_count": 417,
   "metadata": {
    "collapsed": true
   },
   "outputs": [],
   "source": [
    "test = test.sort_values(by='score', ascending=False)"
   ]
  },
  {
   "cell_type": "code",
   "execution_count": 419,
   "metadata": {
    "collapsed": false
   },
   "outputs": [
    {
     "data": {
      "text/html": [
       "<div>\n",
       "<table border=\"1\" class=\"dataframe\">\n",
       "  <thead>\n",
       "    <tr style=\"text-align: right;\">\n",
       "      <th></th>\n",
       "      <th>entity_id</th>\n",
       "      <th>age</th>\n",
       "      <th>gender_female</th>\n",
       "      <th>incident_rate</th>\n",
       "      <th>true_label</th>\n",
       "      <th>random_feature_1</th>\n",
       "      <th>random_feature_2</th>\n",
       "      <th>random_feature_3</th>\n",
       "      <th>random_feature_4</th>\n",
       "      <th>random_feature_5</th>\n",
       "      <th>...</th>\n",
       "      <th>random_feature_81</th>\n",
       "      <th>random_feature_82</th>\n",
       "      <th>random_feature_83</th>\n",
       "      <th>random_feature_84</th>\n",
       "      <th>random_feature_85</th>\n",
       "      <th>random_feature_86</th>\n",
       "      <th>random_feature_87</th>\n",
       "      <th>random_feature_88</th>\n",
       "      <th>random_feature_89</th>\n",
       "      <th>score</th>\n",
       "    </tr>\n",
       "  </thead>\n",
       "  <tbody>\n",
       "    <tr>\n",
       "      <th>256</th>\n",
       "      <td>246</td>\n",
       "      <td>45.707206</td>\n",
       "      <td>0</td>\n",
       "      <td>0.936189</td>\n",
       "      <td>False</td>\n",
       "      <td>0.0</td>\n",
       "      <td>0.0</td>\n",
       "      <td>0.0</td>\n",
       "      <td>1.0</td>\n",
       "      <td>0.0</td>\n",
       "      <td>...</td>\n",
       "      <td>1.604414</td>\n",
       "      <td>-3.259050</td>\n",
       "      <td>-1.907094</td>\n",
       "      <td>-3.194122</td>\n",
       "      <td>5.667859</td>\n",
       "      <td>-1.803107</td>\n",
       "      <td>0.597377</td>\n",
       "      <td>0.131608</td>\n",
       "      <td>2.221849</td>\n",
       "      <td>0.610</td>\n",
       "    </tr>\n",
       "    <tr>\n",
       "      <th>385</th>\n",
       "      <td>115</td>\n",
       "      <td>69.079261</td>\n",
       "      <td>0</td>\n",
       "      <td>0.973462</td>\n",
       "      <td>True</td>\n",
       "      <td>1.0</td>\n",
       "      <td>0.0</td>\n",
       "      <td>0.0</td>\n",
       "      <td>1.0</td>\n",
       "      <td>0.0</td>\n",
       "      <td>...</td>\n",
       "      <td>0.042844</td>\n",
       "      <td>-0.121097</td>\n",
       "      <td>-0.019635</td>\n",
       "      <td>-0.685809</td>\n",
       "      <td>-2.677701</td>\n",
       "      <td>2.040171</td>\n",
       "      <td>-0.126061</td>\n",
       "      <td>-0.249940</td>\n",
       "      <td>-3.261983</td>\n",
       "      <td>0.600</td>\n",
       "    </tr>\n",
       "    <tr>\n",
       "      <th>262</th>\n",
       "      <td>341</td>\n",
       "      <td>64.501325</td>\n",
       "      <td>0</td>\n",
       "      <td>0.876714</td>\n",
       "      <td>True</td>\n",
       "      <td>0.0</td>\n",
       "      <td>1.0</td>\n",
       "      <td>0.0</td>\n",
       "      <td>1.0</td>\n",
       "      <td>0.0</td>\n",
       "      <td>...</td>\n",
       "      <td>-0.889955</td>\n",
       "      <td>3.308929</td>\n",
       "      <td>-1.094386</td>\n",
       "      <td>3.820828</td>\n",
       "      <td>-1.493890</td>\n",
       "      <td>-3.059079</td>\n",
       "      <td>-1.554068</td>\n",
       "      <td>-0.264483</td>\n",
       "      <td>-1.483651</td>\n",
       "      <td>0.590</td>\n",
       "    </tr>\n",
       "    <tr>\n",
       "      <th>347</th>\n",
       "      <td>67</td>\n",
       "      <td>57.689446</td>\n",
       "      <td>0</td>\n",
       "      <td>0.890024</td>\n",
       "      <td>True</td>\n",
       "      <td>0.0</td>\n",
       "      <td>0.0</td>\n",
       "      <td>0.0</td>\n",
       "      <td>1.0</td>\n",
       "      <td>0.0</td>\n",
       "      <td>...</td>\n",
       "      <td>1.698292</td>\n",
       "      <td>-2.198866</td>\n",
       "      <td>0.312003</td>\n",
       "      <td>1.420848</td>\n",
       "      <td>-2.711358</td>\n",
       "      <td>-1.819957</td>\n",
       "      <td>-0.011389</td>\n",
       "      <td>-0.126452</td>\n",
       "      <td>-1.449900</td>\n",
       "      <td>0.565</td>\n",
       "    </tr>\n",
       "    <tr>\n",
       "      <th>275</th>\n",
       "      <td>168</td>\n",
       "      <td>30.877582</td>\n",
       "      <td>0</td>\n",
       "      <td>0.839481</td>\n",
       "      <td>False</td>\n",
       "      <td>0.0</td>\n",
       "      <td>1.0</td>\n",
       "      <td>0.0</td>\n",
       "      <td>1.0</td>\n",
       "      <td>0.0</td>\n",
       "      <td>...</td>\n",
       "      <td>1.438087</td>\n",
       "      <td>-0.301900</td>\n",
       "      <td>-1.079290</td>\n",
       "      <td>-2.121427</td>\n",
       "      <td>-6.733863</td>\n",
       "      <td>-2.015317</td>\n",
       "      <td>1.256779</td>\n",
       "      <td>0.106049</td>\n",
       "      <td>-3.229138</td>\n",
       "      <td>0.560</td>\n",
       "    </tr>\n",
       "    <tr>\n",
       "      <th>218</th>\n",
       "      <td>80</td>\n",
       "      <td>46.918857</td>\n",
       "      <td>0</td>\n",
       "      <td>0.821401</td>\n",
       "      <td>False</td>\n",
       "      <td>1.0</td>\n",
       "      <td>0.0</td>\n",
       "      <td>0.0</td>\n",
       "      <td>1.0</td>\n",
       "      <td>0.0</td>\n",
       "      <td>...</td>\n",
       "      <td>0.223053</td>\n",
       "      <td>2.062282</td>\n",
       "      <td>-5.859959</td>\n",
       "      <td>5.135702</td>\n",
       "      <td>4.401903</td>\n",
       "      <td>-0.847833</td>\n",
       "      <td>-0.343842</td>\n",
       "      <td>0.400157</td>\n",
       "      <td>2.798165</td>\n",
       "      <td>0.550</td>\n",
       "    </tr>\n",
       "    <tr>\n",
       "      <th>369</th>\n",
       "      <td>183</td>\n",
       "      <td>65.139218</td>\n",
       "      <td>0</td>\n",
       "      <td>0.176374</td>\n",
       "      <td>False</td>\n",
       "      <td>0.0</td>\n",
       "      <td>1.0</td>\n",
       "      <td>0.0</td>\n",
       "      <td>1.0</td>\n",
       "      <td>0.0</td>\n",
       "      <td>...</td>\n",
       "      <td>-0.201271</td>\n",
       "      <td>3.949461</td>\n",
       "      <td>-3.950919</td>\n",
       "      <td>1.108758</td>\n",
       "      <td>7.673945</td>\n",
       "      <td>1.958801</td>\n",
       "      <td>-0.390058</td>\n",
       "      <td>0.068962</td>\n",
       "      <td>1.105786</td>\n",
       "      <td>0.545</td>\n",
       "    </tr>\n",
       "    <tr>\n",
       "      <th>166</th>\n",
       "      <td>153</td>\n",
       "      <td>23.121496</td>\n",
       "      <td>0</td>\n",
       "      <td>0.835610</td>\n",
       "      <td>True</td>\n",
       "      <td>0.0</td>\n",
       "      <td>0.0</td>\n",
       "      <td>0.0</td>\n",
       "      <td>1.0</td>\n",
       "      <td>0.0</td>\n",
       "      <td>...</td>\n",
       "      <td>-1.619812</td>\n",
       "      <td>0.308895</td>\n",
       "      <td>0.046728</td>\n",
       "      <td>-4.741117</td>\n",
       "      <td>0.472311</td>\n",
       "      <td>0.870932</td>\n",
       "      <td>-0.997469</td>\n",
       "      <td>-0.015326</td>\n",
       "      <td>5.003751</td>\n",
       "      <td>0.545</td>\n",
       "    </tr>\n",
       "    <tr>\n",
       "      <th>333</th>\n",
       "      <td>305</td>\n",
       "      <td>80.173084</td>\n",
       "      <td>0</td>\n",
       "      <td>0.352738</td>\n",
       "      <td>True</td>\n",
       "      <td>0.0</td>\n",
       "      <td>0.0</td>\n",
       "      <td>0.0</td>\n",
       "      <td>1.0</td>\n",
       "      <td>0.0</td>\n",
       "      <td>...</td>\n",
       "      <td>-1.449521</td>\n",
       "      <td>-0.736680</td>\n",
       "      <td>-1.384991</td>\n",
       "      <td>6.199024</td>\n",
       "      <td>-4.105965</td>\n",
       "      <td>2.830056</td>\n",
       "      <td>0.019276</td>\n",
       "      <td>-0.322225</td>\n",
       "      <td>-8.655330</td>\n",
       "      <td>0.545</td>\n",
       "    </tr>\n",
       "    <tr>\n",
       "      <th>497</th>\n",
       "      <td>390</td>\n",
       "      <td>40.755420</td>\n",
       "      <td>0</td>\n",
       "      <td>0.871950</td>\n",
       "      <td>False</td>\n",
       "      <td>0.0</td>\n",
       "      <td>1.0</td>\n",
       "      <td>0.0</td>\n",
       "      <td>1.0</td>\n",
       "      <td>0.0</td>\n",
       "      <td>...</td>\n",
       "      <td>-2.318051</td>\n",
       "      <td>1.448330</td>\n",
       "      <td>0.961425</td>\n",
       "      <td>-0.533420</td>\n",
       "      <td>-0.751356</td>\n",
       "      <td>4.055057</td>\n",
       "      <td>-0.304116</td>\n",
       "      <td>-0.330331</td>\n",
       "      <td>-6.239099</td>\n",
       "      <td>0.545</td>\n",
       "    </tr>\n",
       "  </tbody>\n",
       "</table>\n",
       "<p>10 rows × 92 columns</p>\n",
       "</div>"
      ],
      "text/plain": [
       "     entity_id        age  gender_female  incident_rate true_label  \\\n",
       "256        246  45.707206              0       0.936189      False   \n",
       "385        115  69.079261              0       0.973462       True   \n",
       "262        341  64.501325              0       0.876714       True   \n",
       "347         67  57.689446              0       0.890024       True   \n",
       "275        168  30.877582              0       0.839481      False   \n",
       "218         80  46.918857              0       0.821401      False   \n",
       "369        183  65.139218              0       0.176374      False   \n",
       "166        153  23.121496              0       0.835610       True   \n",
       "333        305  80.173084              0       0.352738       True   \n",
       "497        390  40.755420              0       0.871950      False   \n",
       "\n",
       "     random_feature_1  random_feature_2  random_feature_3  random_feature_4  \\\n",
       "256               0.0               0.0               0.0               1.0   \n",
       "385               1.0               0.0               0.0               1.0   \n",
       "262               0.0               1.0               0.0               1.0   \n",
       "347               0.0               0.0               0.0               1.0   \n",
       "275               0.0               1.0               0.0               1.0   \n",
       "218               1.0               0.0               0.0               1.0   \n",
       "369               0.0               1.0               0.0               1.0   \n",
       "166               0.0               0.0               0.0               1.0   \n",
       "333               0.0               0.0               0.0               1.0   \n",
       "497               0.0               1.0               0.0               1.0   \n",
       "\n",
       "     random_feature_5  ...    random_feature_81  random_feature_82  \\\n",
       "256               0.0  ...             1.604414          -3.259050   \n",
       "385               0.0  ...             0.042844          -0.121097   \n",
       "262               0.0  ...            -0.889955           3.308929   \n",
       "347               0.0  ...             1.698292          -2.198866   \n",
       "275               0.0  ...             1.438087          -0.301900   \n",
       "218               0.0  ...             0.223053           2.062282   \n",
       "369               0.0  ...            -0.201271           3.949461   \n",
       "166               0.0  ...            -1.619812           0.308895   \n",
       "333               0.0  ...            -1.449521          -0.736680   \n",
       "497               0.0  ...            -2.318051           1.448330   \n",
       "\n",
       "     random_feature_83  random_feature_84  random_feature_85  \\\n",
       "256          -1.907094          -3.194122           5.667859   \n",
       "385          -0.019635          -0.685809          -2.677701   \n",
       "262          -1.094386           3.820828          -1.493890   \n",
       "347           0.312003           1.420848          -2.711358   \n",
       "275          -1.079290          -2.121427          -6.733863   \n",
       "218          -5.859959           5.135702           4.401903   \n",
       "369          -3.950919           1.108758           7.673945   \n",
       "166           0.046728          -4.741117           0.472311   \n",
       "333          -1.384991           6.199024          -4.105965   \n",
       "497           0.961425          -0.533420          -0.751356   \n",
       "\n",
       "     random_feature_86  random_feature_87  random_feature_88  \\\n",
       "256          -1.803107           0.597377           0.131608   \n",
       "385           2.040171          -0.126061          -0.249940   \n",
       "262          -3.059079          -1.554068          -0.264483   \n",
       "347          -1.819957          -0.011389          -0.126452   \n",
       "275          -2.015317           1.256779           0.106049   \n",
       "218          -0.847833          -0.343842           0.400157   \n",
       "369           1.958801          -0.390058           0.068962   \n",
       "166           0.870932          -0.997469          -0.015326   \n",
       "333           2.830056           0.019276          -0.322225   \n",
       "497           4.055057          -0.304116          -0.330331   \n",
       "\n",
       "     random_feature_89  score  \n",
       "256           2.221849  0.610  \n",
       "385          -3.261983  0.600  \n",
       "262          -1.483651  0.590  \n",
       "347          -1.449900  0.565  \n",
       "275          -3.229138  0.560  \n",
       "218           2.798165  0.550  \n",
       "369           1.105786  0.545  \n",
       "166           5.003751  0.545  \n",
       "333          -8.655330  0.545  \n",
       "497          -6.239099  0.545  \n",
       "\n",
       "[10 rows x 92 columns]"
      ]
     },
     "execution_count": 419,
     "metadata": {},
     "output_type": "execute_result"
    }
   ],
   "source": [
    "test.head(10)"
   ]
  },
  {
   "cell_type": "markdown",
   "metadata": {},
   "source": [
    "But didn't pick up on the interaction term."
   ]
  },
  {
   "cell_type": "code",
   "execution_count": 420,
   "metadata": {
    "collapsed": false
   },
   "outputs": [],
   "source": [
    "# rearrange columns a bit\n",
    "test = test[['entity_id','true_label','score'] + [c for c in test.columns if c not in ['entity_id','true_label','score']]]"
   ]
  },
  {
   "cell_type": "code",
   "execution_count": 422,
   "metadata": {
    "collapsed": true
   },
   "outputs": [],
   "source": [
    "test.to_csv('test_data.csv', index=False)"
   ]
  }
 ],
 "metadata": {
  "kernelspec": {
   "display_name": "Python 3",
   "language": "python",
   "name": "python3"
  },
  "language_info": {
   "codemirror_mode": {
    "name": "ipython",
    "version": 3
   },
   "file_extension": ".py",
   "mimetype": "text/x-python",
   "name": "python",
   "nbconvert_exporter": "python",
   "pygments_lexer": "ipython3",
   "version": "3.5.1"
  }
 },
 "nbformat": 4,
 "nbformat_minor": 0
}
