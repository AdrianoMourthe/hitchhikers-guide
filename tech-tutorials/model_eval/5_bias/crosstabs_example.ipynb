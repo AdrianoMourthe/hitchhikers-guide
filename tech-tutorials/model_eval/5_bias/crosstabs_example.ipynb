{
 "cells": [
  {
   "cell_type": "markdown",
   "metadata": {},
   "source": [
    "# Crosstabs Example"
   ]
  },
  {
   "cell_type": "code",
   "execution_count": 18,
   "metadata": {
    "collapsed": false
   },
   "outputs": [],
   "source": [
    "import pandas as pd\n",
    "import numpy as np\n",
    "import scipy.stats as ss\n",
    "import seaborn as sns\n",
    "import bokeh"
   ]
  },
  {
   "cell_type": "code",
   "execution_count": 3,
   "metadata": {
    "collapsed": true
   },
   "outputs": [],
   "source": [
    "from bokeh.plotting import figure, show\n",
    "from bokeh.palettes import Set1\n",
    "from bokeh.io import save\n",
    "from bokeh.layouts import gridplot\n",
    "from bokeh.resources import CDN"
   ]
  },
  {
   "cell_type": "code",
   "execution_count": 2,
   "metadata": {
    "collapsed": true
   },
   "outputs": [],
   "source": [
    "def plot_feature_histograms(df_list, names=[], nbins=200, colors=[]):\n",
    "    \"\"\"\n",
    "    Takes a list of dataframes. For each column that exists in all dataframes \n",
    "    from that list, creates a histogram that contrasts the distribution of \n",
    "    that column's values between dataframes.\n",
    "    Note: The returned plots are in arbitrary order.\n",
    "    Args:\n",
    "        df_list: list of dataframes\n",
    "        names: list of dataframe names\n",
    "        nbins: the number of bins in the histogram.\n",
    "        colors: list of colors to use; uses a standard palette by default\n",
    "    Returns:\n",
    "        List of bokeh.figures, list of common column names (to give the \n",
    "        order of the figures).\n",
    "    \"\"\"\n",
    "\n",
    "    if names and len(names)!=len(df_list):\n",
    "        raise ValueError(\"The number of names and dataframes must match.\")\n",
    "\n",
    "    if colors and len(colors)!=len(df_list):\n",
    "        raise ValueError(\"The number of colors and dataframes must match.\")\n",
    "\n",
    "    if not names:\n",
    "        names = ['dataframe_%.02d'%idx for idx in range(len(df_list))]\n",
    "\n",
    "    if not colors:\n",
    "        if len(df_list) > len(Set1[9]):\n",
    "            raise ValueError(\"You must specify colors for this many dataframes.\")\n",
    "        colors = Set1[9][:len(df_list)]\n",
    "\n",
    "\n",
    "    common_cols = set.intersection(*[set(df.columns) for df in df_list])\n",
    "\n",
    "    if len(common_cols) == 0:\n",
    "        raise ValueError(\"The dataframes have no columns in common.\")\n",
    "\n",
    "    # bokeh is picky with column names\n",
    "    common_cols = map(str, common_cols)\n",
    "    for df in df_list:\n",
    "        df.columns = map(str, df.columns)\n",
    "\n",
    "    # now we can plot each column, grouped by the dataframe name\n",
    "    res = []\n",
    "    for col in common_cols:\n",
    "\n",
    "        # get the bin sizes\n",
    "        all_values = pd.concat([df[col] for df in df_list], ignore_index=True)\n",
    "        _, all_edges = np.histogram(all_values, bins=nbins)\n",
    "\n",
    "        # make a figure\n",
    "        p = figure(title=\"Distribution of %s\"%col, tools=[\"save\",\"zoom_in\",\n",
    "            \"zoom_out\", \"xwheel_zoom\", \"ywheel_zoom\", \"box_zoom\", \"reset\",\n",
    "            \"pan\"],\n",
    "            background_fill_color=\"#ffffff\")\n",
    "\n",
    "        # add a histogram plot per dataframe\n",
    "        for idx, df in enumerate(df_list):\n",
    "            hist, edges = np.histogram(df[col], density=True, bins=all_edges)\n",
    "            p.quad(top=hist, bottom=0, left=edges[:-1], right=edges[1:],\n",
    "                   fill_color=colors[idx], line_color=colors[idx], \n",
    "                   alpha=0.3, legend=names[idx])\n",
    "\n",
    "        p.legend.location = 'top_right'\n",
    "        p.xaxis.axis_label = col\n",
    "        p.yaxis.axis_label = 'density'\n",
    "        res.append(p)\n",
    "\n",
    "    return res, common_cols"
   ]
  },
  {
   "cell_type": "code",
   "execution_count": 20,
   "metadata": {
    "collapsed": false
   },
   "outputs": [],
   "source": [
    "df = pd.read_csv('test_data.csv')"
   ]
  },
  {
   "cell_type": "code",
   "execution_count": 24,
   "metadata": {
    "collapsed": false
   },
   "outputs": [],
   "source": [
    "df = df.sort_values(by='score', ascending=False)"
   ]
  },
  {
   "cell_type": "code",
   "execution_count": 27,
   "metadata": {
    "collapsed": false
   },
   "outputs": [],
   "source": [
    "cutoff = round(len(df) * 0.1)"
   ]
  },
  {
   "cell_type": "code",
   "execution_count": 28,
   "metadata": {
    "collapsed": false
   },
   "outputs": [],
   "source": [
    "df_highrisk = df.iloc[0:cutoff,:]\n",
    "df_lowrisk = df.iloc[cutoff:, :]"
   ]
  },
  {
   "cell_type": "code",
   "execution_count": 29,
   "metadata": {
    "collapsed": false
   },
   "outputs": [
    {
     "data": {
      "text/plain": [
       "(450, 92)"
      ]
     },
     "execution_count": 29,
     "metadata": {},
     "output_type": "execute_result"
    }
   ],
   "source": [
    "df_lowrisk.shape"
   ]
  },
  {
   "cell_type": "code",
   "execution_count": 30,
   "metadata": {
    "collapsed": false
   },
   "outputs": [
    {
     "data": {
      "text/plain": [
       "(50, 92)"
      ]
     },
     "execution_count": 30,
     "metadata": {},
     "output_type": "execute_result"
    }
   ],
   "source": [
    "df_highrisk.shape"
   ]
  },
  {
   "cell_type": "code",
   "execution_count": 19,
   "metadata": {
    "collapsed": false
   },
   "outputs": [
    {
     "name": "stderr",
     "output_type": "stream",
     "text": [
      "/home/bene/DSaPP/env35/lib/python3.5/site-packages/bokeh/plotting/helpers.py:535: UserWarning: WheelZoomTool are being repeated\n",
      "  warnings.warn(\"%s are being repeated\" % \",\".join(repeated_tools))\n"
     ]
    }
   ],
   "source": [
    "res, ccols = plot_feature_histograms([df_lowrisk, df_highrisk])"
   ]
  }
 ],
 "metadata": {
  "kernelspec": {
   "display_name": "Python 3",
   "language": "python",
   "name": "python3"
  },
  "language_info": {
   "codemirror_mode": {
    "name": "ipython",
    "version": 3
   },
   "file_extension": ".py",
   "mimetype": "text/x-python",
   "name": "python",
   "nbconvert_exporter": "python",
   "pygments_lexer": "ipython3",
   "version": "3.5.1"
  }
 },
 "nbformat": 4,
 "nbformat_minor": 0
}
