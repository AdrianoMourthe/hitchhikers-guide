{
 "cells": [
  {
   "cell_type": "markdown",
   "metadata": {},
   "source": [
    "# Features, Labels, Join"
   ]
  },
  {
   "cell_type": "code",
   "execution_count": null,
   "metadata": {
    "collapsed": true
   },
   "outputs": [],
   "source": [
    "import pandas as pd\n",
    "import numpy as np"
   ]
  },
  {
   "cell_type": "markdown",
   "metadata": {},
   "source": [
    "## A simple static feature"
   ]
  },
  {
   "cell_type": "code",
   "execution_count": 183,
   "metadata": {
    "collapsed": true
   },
   "outputs": [],
   "source": [
    "def gender_feature(filename='gender_female.csv'):\n",
    "    \"\"\" Reads in a CSV, drops NAs, returns the DataFrame. \"\"\"\n",
    "    \n",
    "    df = pd.read_csv(filename)\n",
    "    df = df.dropna(how='any')\n",
    "    \n",
    "    return df"
   ]
  },
  {
   "cell_type": "code",
   "execution_count": 275,
   "metadata": {
    "collapsed": false
   },
   "outputs": [
    {
     "data": {
      "text/html": [
       "<div>\n",
       "<table border=\"1\" class=\"dataframe\">\n",
       "  <thead>\n",
       "    <tr style=\"text-align: right;\">\n",
       "      <th></th>\n",
       "      <th>entity_id</th>\n",
       "      <th>gender_female</th>\n",
       "    </tr>\n",
       "  </thead>\n",
       "  <tbody>\n",
       "    <tr>\n",
       "      <th>0</th>\n",
       "      <td>309</td>\n",
       "      <td>1.0</td>\n",
       "    </tr>\n",
       "    <tr>\n",
       "      <th>1</th>\n",
       "      <td>324</td>\n",
       "      <td>1.0</td>\n",
       "    </tr>\n",
       "    <tr>\n",
       "      <th>2</th>\n",
       "      <td>48</td>\n",
       "      <td>1.0</td>\n",
       "    </tr>\n",
       "    <tr>\n",
       "      <th>3</th>\n",
       "      <td>210</td>\n",
       "      <td>0.0</td>\n",
       "    </tr>\n",
       "    <tr>\n",
       "      <th>4</th>\n",
       "      <td>180</td>\n",
       "      <td>1.0</td>\n",
       "    </tr>\n",
       "  </tbody>\n",
       "</table>\n",
       "</div>"
      ],
      "text/plain": [
       "   entity_id  gender_female\n",
       "0        309            1.0\n",
       "1        324            1.0\n",
       "2         48            1.0\n",
       "3        210            0.0\n",
       "4        180            1.0"
      ]
     },
     "execution_count": 275,
     "metadata": {},
     "output_type": "execute_result"
    }
   ],
   "source": [
    "my_gender = gender_feature()\n",
    "my_gender.head()"
   ]
  },
  {
   "cell_type": "markdown",
   "metadata": {},
   "source": [
    "## A temporal feature"
   ]
  },
  {
   "cell_type": "code",
   "execution_count": 223,
   "metadata": {
    "collapsed": false
   },
   "outputs": [],
   "source": [
    "def incident_aggregation(as_of_date, agg_col, date_col, time_delta, \n",
    "                         agg_funcs, filename='incidents.csv'):\n",
    "    \"\"\"\n",
    "    Reads and aggregates a CSV file over a date range.\n",
    "    \n",
    "    Args:\n",
    "        as_of_date (datetime): End of the aggregation window (excluded).\n",
    "        agg_col (str): Name of the column for aggregation.\n",
    "        date_col (str): Name of the column that gives knowledge dates for \n",
    "                        the values in agg_col.\n",
    "        time_delta (pd.Timedelta): Time range. Gives the time \n",
    "                                   window preceding the as_of_date over\n",
    "                                   which we aggregate.\n",
    "        agg_funcs (dict): A dictionary that maps column names to functions.\n",
    "                          The functions will be applied to the groupby, \n",
    "                          and the resulting dataframe contains columns\n",
    "                          named like <key>_<timedelta>.\n",
    "        fileame (str): Path to the CSV that should be aggregated. The \n",
    "                       CSV must contain an entity_id column, as well as \n",
    "                       the columns given by agg_col and date_col.\n",
    "        \n",
    "    Returns (pd.DataFrame): A dataframe, uniquely indexed by entity_id,\n",
    "                            with columns that contain the aggregations\n",
    "                            from agg_funcs. \n",
    "    \"\"\"\n",
    "    \n",
    "    # read the CSV\n",
    "    df = pd.read_csv(filename)\n",
    "    df[date_col] = pd.to_datetime(df[date_col])\n",
    "    \n",
    "    # restrict to data in aggregation window\n",
    "    df = df.loc[df[date_col] < as_of_date,:]\n",
    "    df = df.loc[df[date_col] >= (as_of_date-time_delta),:]\n",
    "    \n",
    "    # add as_of_date to the index\n",
    "    df['as_of_date'] = as_of_date\n",
    "    df = df.set_index(['entity_id','as_of_date'])\n",
    "    \n",
    "    # just some formatting for naming the columns\n",
    "    nice_timedelta_str = str(time_delta).replace('00:00:00','').replace(' ','')\n",
    "    agg_funcs = {k+'_'+nice_timedelta_str: v for k,v in agg_funcs.items()}\n",
    "    \n",
    "    # aggregate by entity_id and apply the functions\n",
    "    return df[agg_col].groupby(level=[0,1]).agg(agg_funcs)"
   ]
  },
  {
   "cell_type": "code",
   "execution_count": 224,
   "metadata": {
    "collapsed": false
   },
   "outputs": [],
   "source": [
    "my_agg = incident_aggregation(pd.to_datetime('2016-01-01'),\n",
    "                             'incident_type',\n",
    "                             'incident_date',\n",
    "                              pd.Timedelta(365,'d'), \n",
    "                              {'count_neglects': lambda x: sum(x=='neglect_of_duty'),\n",
    "                              'count_conduct': lambda x: sum(x=='conduct_unbecoming')})"
   ]
  },
  {
   "cell_type": "code",
   "execution_count": 225,
   "metadata": {
    "collapsed": false
   },
   "outputs": [
    {
     "data": {
      "text/html": [
       "<div>\n",
       "<table border=\"1\" class=\"dataframe\">\n",
       "  <thead>\n",
       "    <tr style=\"text-align: right;\">\n",
       "      <th></th>\n",
       "      <th></th>\n",
       "      <th>count_conduct_365days</th>\n",
       "      <th>count_neglects_365days</th>\n",
       "    </tr>\n",
       "    <tr>\n",
       "      <th>entity_id</th>\n",
       "      <th>as_of_date</th>\n",
       "      <th></th>\n",
       "      <th></th>\n",
       "    </tr>\n",
       "  </thead>\n",
       "  <tbody>\n",
       "    <tr>\n",
       "      <th>0</th>\n",
       "      <th>2016-01-01</th>\n",
       "      <td>2</td>\n",
       "      <td>1</td>\n",
       "    </tr>\n",
       "    <tr>\n",
       "      <th>1</th>\n",
       "      <th>2016-01-01</th>\n",
       "      <td>2</td>\n",
       "      <td>1</td>\n",
       "    </tr>\n",
       "    <tr>\n",
       "      <th>2</th>\n",
       "      <th>2016-01-01</th>\n",
       "      <td>1</td>\n",
       "      <td>0</td>\n",
       "    </tr>\n",
       "    <tr>\n",
       "      <th>3</th>\n",
       "      <th>2016-01-01</th>\n",
       "      <td>1</td>\n",
       "      <td>2</td>\n",
       "    </tr>\n",
       "    <tr>\n",
       "      <th>4</th>\n",
       "      <th>2016-01-01</th>\n",
       "      <td>3</td>\n",
       "      <td>0</td>\n",
       "    </tr>\n",
       "  </tbody>\n",
       "</table>\n",
       "</div>"
      ],
      "text/plain": [
       "                      count_conduct_365days  count_neglects_365days\n",
       "entity_id as_of_date                                               \n",
       "0         2016-01-01                      2                       1\n",
       "1         2016-01-01                      2                       1\n",
       "2         2016-01-01                      1                       0\n",
       "3         2016-01-01                      1                       2\n",
       "4         2016-01-01                      3                       0"
      ]
     },
     "execution_count": 225,
     "metadata": {},
     "output_type": "execute_result"
    }
   ],
   "source": [
    "my_agg.head()"
   ]
  },
  {
   "cell_type": "markdown",
   "metadata": {},
   "source": [
    "## Binary labels"
   ]
  },
  {
   "cell_type": "code",
   "execution_count": 271,
   "metadata": {
    "collapsed": true
   },
   "outputs": [],
   "source": [
    "def label_aggregation(as_of_date, time_delta, filename='incidents.csv'):\n",
    "    \"\"\" Find if an entity has a 'discipline' or 'conduct_unbecoming' incident\n",
    "        that is decided as sustained.\n",
    "    Args:\n",
    "        as_of_date (datetime): Beginning of the aggregation window (included).\n",
    "        time_delta (pd.Timedelta): Time range. Gives the time \n",
    "                                   window following the as_of_date over\n",
    "                                   which we aggregate.\n",
    "        filename (str): Path to the incidents CSV, which contains\n",
    "                        entity_id, incident type and date, and \n",
    "                        decision with date.\n",
    "    Returns (pd.Series):\n",
    "        A boolean series, indexed uniquely by entity_id and as_of_date,\n",
    "        giving if the entity had at least one sustained disciplinary\n",
    "        or conduct_unbecoming event that fell within the time window.\n",
    "    \"\"\"\n",
    "    \n",
    "    # load the CSV\n",
    "    df = pd.read_csv(filename, parse_dates=['incident_date','decision_date'])\n",
    "        \n",
    "    # restrict to incidents after the as_of_date\n",
    "    df = df.loc[df.incident_date>=as_of_date,:]\n",
    "    \n",
    "    # restrict to decisions in the time window\n",
    "    df = df.loc[df.decision_date<(as_of_date+time_delta),:]\n",
    "\n",
    "    # add the as_of_date to the index\n",
    "    df['as_of_date'] = as_of_date\n",
    "    df = df.set_index(['entity_id','as_of_date'])\n",
    "    \n",
    "    # binarize\n",
    "    df['adverse_incident'] = df.incident_type.isin(['discipline','conduct_unbecoming'])\\\n",
    "                             &(df.decision=='sustained')\n",
    "    \n",
    "    # aggregate and return\n",
    "    return df.adverse_incident.groupby(level=[0,1]).max() > 0"
   ]
  },
  {
   "cell_type": "code",
   "execution_count": 272,
   "metadata": {
    "collapsed": false
   },
   "outputs": [],
   "source": [
    "my_labels = label_aggregation(pd.to_datetime('2016-01-01'), pd.Timedelta(90,'d'))"
   ]
  },
  {
   "cell_type": "code",
   "execution_count": 273,
   "metadata": {
    "collapsed": false
   },
   "outputs": [
    {
     "data": {
      "text/plain": [
       "entity_id  as_of_date\n",
       "2          2016-01-01     True\n",
       "3          2016-01-01    False\n",
       "8          2016-01-01    False\n",
       "9          2016-01-01    False\n",
       "10         2016-01-01    False\n",
       "Name: adverse_incident, dtype: bool"
      ]
     },
     "execution_count": 273,
     "metadata": {},
     "output_type": "execute_result"
    }
   ],
   "source": [
    "my_labels.head()"
   ]
  },
  {
   "cell_type": "markdown",
   "metadata": {},
   "source": [
    "## Joining Labels and Features"
   ]
  },
  {
   "cell_type": "code",
   "execution_count": 278,
   "metadata": {
    "collapsed": true
   },
   "outputs": [],
   "source": [
    "my_gender['as_of_date'] = pd.to_datetime('2016-01-01')\n",
    "my_gender = my_gender.set_index(['entity_id','as_of_date'])"
   ]
  },
  {
   "cell_type": "code",
   "execution_count": 285,
   "metadata": {
    "collapsed": false
   },
   "outputs": [
    {
     "data": {
      "text/html": [
       "<div>\n",
       "<table border=\"1\" class=\"dataframe\">\n",
       "  <thead>\n",
       "    <tr style=\"text-align: right;\">\n",
       "      <th></th>\n",
       "      <th></th>\n",
       "      <th>adverse_incident</th>\n",
       "      <th>gender_female</th>\n",
       "      <th>count_conduct_365days</th>\n",
       "      <th>count_neglects_365days</th>\n",
       "    </tr>\n",
       "    <tr>\n",
       "      <th>entity_id</th>\n",
       "      <th>as_of_date</th>\n",
       "      <th></th>\n",
       "      <th></th>\n",
       "      <th></th>\n",
       "      <th></th>\n",
       "    </tr>\n",
       "  </thead>\n",
       "  <tbody>\n",
       "    <tr>\n",
       "      <th>2</th>\n",
       "      <th>2016-01-01</th>\n",
       "      <td>True</td>\n",
       "      <td>0.0</td>\n",
       "      <td>1.0</td>\n",
       "      <td>0.0</td>\n",
       "    </tr>\n",
       "    <tr>\n",
       "      <th>3</th>\n",
       "      <th>2016-01-01</th>\n",
       "      <td>False</td>\n",
       "      <td>0.0</td>\n",
       "      <td>1.0</td>\n",
       "      <td>2.0</td>\n",
       "    </tr>\n",
       "    <tr>\n",
       "      <th>8</th>\n",
       "      <th>2016-01-01</th>\n",
       "      <td>False</td>\n",
       "      <td>1.0</td>\n",
       "      <td>3.0</td>\n",
       "      <td>2.0</td>\n",
       "    </tr>\n",
       "    <tr>\n",
       "      <th>9</th>\n",
       "      <th>2016-01-01</th>\n",
       "      <td>False</td>\n",
       "      <td>0.0</td>\n",
       "      <td>1.0</td>\n",
       "      <td>0.0</td>\n",
       "    </tr>\n",
       "    <tr>\n",
       "      <th>10</th>\n",
       "      <th>2016-01-01</th>\n",
       "      <td>False</td>\n",
       "      <td>0.0</td>\n",
       "      <td>1.0</td>\n",
       "      <td>2.0</td>\n",
       "    </tr>\n",
       "  </tbody>\n",
       "</table>\n",
       "</div>"
      ],
      "text/plain": [
       "                     adverse_incident  gender_female  count_conduct_365days  \\\n",
       "entity_id as_of_date                                                          \n",
       "2         2016-01-01             True            0.0                    1.0   \n",
       "3         2016-01-01            False            0.0                    1.0   \n",
       "8         2016-01-01            False            1.0                    3.0   \n",
       "9         2016-01-01            False            0.0                    1.0   \n",
       "10        2016-01-01            False            0.0                    1.0   \n",
       "\n",
       "                      count_neglects_365days  \n",
       "entity_id as_of_date                          \n",
       "2         2016-01-01                     0.0  \n",
       "3         2016-01-01                     2.0  \n",
       "8         2016-01-01                     2.0  \n",
       "9         2016-01-01                     0.0  \n",
       "10        2016-01-01                     2.0  "
      ]
     },
     "execution_count": 285,
     "metadata": {},
     "output_type": "execute_result"
    }
   ],
   "source": [
    "dataset = my_labels.to_frame().join(my_gender, how='left')\\\n",
    "                    .join(my_agg, how='left')\n",
    "    \n",
    "dataset.head()"
   ]
  },
  {
   "cell_type": "markdown",
   "metadata": {},
   "source": [
    "## But clearly, some entities are missing...\n",
    "Make a table of 'active' entities for the given date."
   ]
  },
  {
   "cell_type": "code",
   "execution_count": 286,
   "metadata": {
    "collapsed": true
   },
   "outputs": [],
   "source": [
    "def active_officers(as_of_date, filename='patrol_duty.csv'):\n",
    "    \"\"\"Check if an officer is on patrol duty for the as_of_date. If ambiguous, drop\n",
    "        that officer.\"\"\"\n",
    "    \n",
    "    # read CSV\n",
    "    df = pd.read_csv(filename, parse_dates=['start_date','end_date'])\n",
    "    \n",
    "    # check if as_of_date falls between start and end date of duty\n",
    "    df['active'] = (df.start_date<=as_of_date)&(df.end_date>=as_of_date)\n",
    "    \n",
    "    # remove entities that have >1 entry (ambiguous)\n",
    "    df = df.drop_duplicates(subset='entity_id', keep=False)\n",
    "    \n",
    "    df['as_of_date'] = as_of_date\n",
    "    df = df.set_index(['entity_id','as_of_date'])\n",
    "    \n",
    "    return df.index"
   ]
  },
  {
   "cell_type": "code",
   "execution_count": 288,
   "metadata": {
    "collapsed": false
   },
   "outputs": [],
   "source": [
    "my_active = active_officers(pd.to_datetime('2016-01-01'))"
   ]
  },
  {
   "cell_type": "markdown",
   "metadata": {},
   "source": [
    "We can now index into the dataset with our new entity list:"
   ]
  },
  {
   "cell_type": "code",
   "execution_count": 293,
   "metadata": {
    "collapsed": false
   },
   "outputs": [
    {
     "data": {
      "text/html": [
       "<div>\n",
       "<table border=\"1\" class=\"dataframe\">\n",
       "  <thead>\n",
       "    <tr style=\"text-align: right;\">\n",
       "      <th></th>\n",
       "      <th></th>\n",
       "      <th>adverse_incident</th>\n",
       "      <th>gender_female</th>\n",
       "      <th>count_conduct_365days</th>\n",
       "      <th>count_neglects_365days</th>\n",
       "    </tr>\n",
       "    <tr>\n",
       "      <th>entity_id</th>\n",
       "      <th>as_of_date</th>\n",
       "      <th></th>\n",
       "      <th></th>\n",
       "      <th></th>\n",
       "      <th></th>\n",
       "    </tr>\n",
       "  </thead>\n",
       "  <tbody>\n",
       "    <tr>\n",
       "      <th>0</th>\n",
       "      <th>2016-01-01</th>\n",
       "      <td>NaN</td>\n",
       "      <td>NaN</td>\n",
       "      <td>NaN</td>\n",
       "      <td>NaN</td>\n",
       "    </tr>\n",
       "    <tr>\n",
       "      <th>2</th>\n",
       "      <th>2016-01-01</th>\n",
       "      <td>True</td>\n",
       "      <td>0.0</td>\n",
       "      <td>1.0</td>\n",
       "      <td>0.0</td>\n",
       "    </tr>\n",
       "    <tr>\n",
       "      <th>3</th>\n",
       "      <th>2016-01-01</th>\n",
       "      <td>False</td>\n",
       "      <td>0.0</td>\n",
       "      <td>1.0</td>\n",
       "      <td>2.0</td>\n",
       "    </tr>\n",
       "    <tr>\n",
       "      <th>7</th>\n",
       "      <th>2016-01-01</th>\n",
       "      <td>NaN</td>\n",
       "      <td>NaN</td>\n",
       "      <td>NaN</td>\n",
       "      <td>NaN</td>\n",
       "    </tr>\n",
       "    <tr>\n",
       "      <th>8</th>\n",
       "      <th>2016-01-01</th>\n",
       "      <td>False</td>\n",
       "      <td>1.0</td>\n",
       "      <td>3.0</td>\n",
       "      <td>2.0</td>\n",
       "    </tr>\n",
       "  </tbody>\n",
       "</table>\n",
       "</div>"
      ],
      "text/plain": [
       "                     adverse_incident  gender_female  count_conduct_365days  \\\n",
       "entity_id as_of_date                                                          \n",
       "0         2016-01-01              NaN            NaN                    NaN   \n",
       "2         2016-01-01             True            0.0                    1.0   \n",
       "3         2016-01-01            False            0.0                    1.0   \n",
       "7         2016-01-01              NaN            NaN                    NaN   \n",
       "8         2016-01-01            False            1.0                    3.0   \n",
       "\n",
       "                      count_neglects_365days  \n",
       "entity_id as_of_date                          \n",
       "0         2016-01-01                     NaN  \n",
       "2         2016-01-01                     0.0  \n",
       "3         2016-01-01                     2.0  \n",
       "7         2016-01-01                     NaN  \n",
       "8         2016-01-01                     2.0  "
      ]
     },
     "execution_count": 293,
     "metadata": {},
     "output_type": "execute_result"
    }
   ],
   "source": [
    "dataset.loc[my_active,:].head()"
   ]
  },
  {
   "cell_type": "markdown",
   "metadata": {},
   "source": [
    "We need to coalesce / impute!"
   ]
  }
 ],
 "metadata": {
  "kernelspec": {
   "display_name": "Python 3",
   "language": "python",
   "name": "python3"
  },
  "language_info": {
   "codemirror_mode": {
    "name": "ipython",
    "version": 3
   },
   "file_extension": ".py",
   "mimetype": "text/x-python",
   "name": "python",
   "nbconvert_exporter": "python",
   "pygments_lexer": "ipython3",
   "version": "3.5.1"
  }
 },
 "nbformat": 4,
 "nbformat_minor": 0
}
